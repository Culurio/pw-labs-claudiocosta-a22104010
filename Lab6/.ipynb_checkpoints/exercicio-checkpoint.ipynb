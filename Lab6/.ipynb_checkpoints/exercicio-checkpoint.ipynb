{
 "cells": [
  {
   "cell_type": "code",
   "execution_count": 5,
   "id": "bc2b0b59",
   "metadata": {},
   "outputs": [
    {
     "ename": "AttributeError",
     "evalue": "module 'pacote' has no attribute 'in_out'",
     "output_type": "error",
     "traceback": [
      "\u001b[1;31m---------------------------------------------------------------------------\u001b[0m",
      "\u001b[1;31mAttributeError\u001b[0m                            Traceback (most recent call last)",
      "Input \u001b[1;32mIn [5]\u001b[0m, in \u001b[0;36m<cell line: 3>\u001b[1;34m()\u001b[0m\n\u001b[0;32m      1\u001b[0m \u001b[38;5;28;01mimport\u001b[39;00m \u001b[38;5;21;01mpacote\u001b[39;00m\n\u001b[1;32m----> 3\u001b[0m numero \u001b[38;5;241m=\u001b[39m \u001b[43mpacote\u001b[49m\u001b[38;5;241;43m.\u001b[39;49m\u001b[43min_out\u001b[49m\u001b[38;5;241m.\u001b[39mler_numero()\n",
      "\u001b[1;31mAttributeError\u001b[0m: module 'pacote' has no attribute 'in_out'"
     ]
    }
   ],
   "source": [
    "import pacote\n",
    "\n",
    "numero = pacote.in_out.ler_numero()"
   ]
  },
  {
   "cell_type": "code",
   "execution_count": null,
   "id": "3f6ec9c7",
   "metadata": {},
   "outputs": [],
   "source": [
    "asda\n",
    "asd\n",
    "aas\n",
    "da\n",
    "sd"
   ]
  },
  {
   "cell_type": "code",
   "execution_count": null,
   "id": "1942ec94",
   "metadata": {},
   "outputs": [],
   "source": []
  },
  {
   "cell_type": "code",
   "execution_count": null,
   "id": "7e008162",
   "metadata": {},
   "outputs": [],
   "source": []
  },
  {
   "cell_type": "code",
   "execution_count": null,
   "id": "93a84bf7",
   "metadata": {},
   "outputs": [],
   "source": []
  },
  {
   "cell_type": "code",
   "execution_count": null,
   "id": "607cbaa6",
   "metadata": {},
   "outputs": [],
   "source": []
  },
  {
   "cell_type": "code",
   "execution_count": null,
   "id": "065e1ee6",
   "metadata": {},
   "outputs": [],
   "source": []
  },
  {
   "cell_type": "code",
   "execution_count": null,
   "id": "20269168",
   "metadata": {},
   "outputs": [],
   "source": []
  }
 ],
 "metadata": {
  "kernelspec": {
   "display_name": "Python 3 (ipykernel)",
   "language": "python",
   "name": "python3"
  },
  "language_info": {
   "codemirror_mode": {
    "name": "ipython",
    "version": 3
   },
   "file_extension": ".py",
   "mimetype": "text/x-python",
   "name": "python",
   "nbconvert_exporter": "python",
   "pygments_lexer": "ipython3",
   "version": "3.10.4"
  }
 },
 "nbformat": 4,
 "nbformat_minor": 5
}
