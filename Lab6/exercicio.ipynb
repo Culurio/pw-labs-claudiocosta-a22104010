{
 "cells": [
  {
   "cell_type": "code",
   "execution_count": 15,
   "id": "bc2b0b59",
   "metadata": {},
   "outputs": [
    {
     "ename": "AttributeError",
     "evalue": "module 'pacote' has no attribute 'in_out'",
     "output_type": "error",
     "traceback": [
      "\u001b[1;31m---------------------------------------------------------------------------\u001b[0m",
      "\u001b[1;31mAttributeError\u001b[0m                            Traceback (most recent call last)",
      "\u001b[1;32md:\\pw-labs-claudiocosta-a22104010\\Lab6\\exercicio.ipynb Cell 1'\u001b[0m in \u001b[0;36m<cell line: 3>\u001b[1;34m()\u001b[0m\n\u001b[0;32m      <a href='vscode-notebook-cell:/d%3A/pw-labs-claudiocosta-a22104010/Lab6/exercicio.ipynb#ch0000000?line=0'>1</a>\u001b[0m \u001b[39mimport\u001b[39;00m \u001b[39mpacote\u001b[39;00m\n\u001b[1;32m----> <a href='vscode-notebook-cell:/d%3A/pw-labs-claudiocosta-a22104010/Lab6/exercicio.ipynb#ch0000000?line=2'>3</a>\u001b[0m numero \u001b[39m=\u001b[39m pacote\u001b[39m.\u001b[39;49min_out\u001b[39m.\u001b[39mler_numero()\n",
      "\u001b[1;31mAttributeError\u001b[0m: module 'pacote' has no attribute 'in_out'"
     ]
    }
   ],
   "source": [
    "import pacote\n",
    "\n",
    "numero = pacote.in_out.ler_numero()"
   ]
  }
 ],
 "metadata": {
  "kernelspec": {
   "display_name": "Python 3 (ipykernel)",
   "language": "python",
   "name": "python3"
  },
  "language_info": {
   "codemirror_mode": {
    "name": "ipython",
    "version": 3
   },
   "file_extension": ".py",
   "mimetype": "text/x-python",
   "name": "python",
   "nbconvert_exporter": "python",
   "pygments_lexer": "ipython3",
   "version": "3.8.8"
  }
 },
 "nbformat": 4,
 "nbformat_minor": 5
}
